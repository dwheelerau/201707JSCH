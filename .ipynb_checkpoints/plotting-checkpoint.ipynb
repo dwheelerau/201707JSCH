{
 "cells": [
  {
   "cell_type": "code",
   "execution_count": 1,
   "metadata": {},
   "outputs": [
    {
     "name": "stdout",
     "output_type": "stream",
     "text": [
      "CR_09880W_A_DEF1.fasta\t legend.png\t\tSc5414_data.txt\r\n",
      "DEF1 conversion.xlsx\t plotting.ipynb\t\tSc5414_data.txt~\r\n",
      "DEF1-hp11vw (187).fasta  sc5314 amplicon.fasta\ttest1.png\r\n",
      "hp11vw_data.txt\t\t sc5314_data.txt~\ttest.png\r\n"
     ]
    }
   ],
   "source": [
    "!ls"
   ]
  },
  {
   "cell_type": "markdown",
   "metadata": {},
   "source": [
    "This one I am just going to translate the sequences from Jans spreadsheet, just to get the plotting working. I'm sure I have to extract the sequences myself somehow in the future, but not sure at this stage as the seq cordinates seem to be for the reference (I gather I must have these alleles somewhere?)"
   ]
  },
  {
   "cell_type": "code",
   "execution_count": 2,
   "metadata": {},
   "outputs": [
    {
     "name": "stdout",
     "output_type": "stream",
     "text": [
      "39\tGCGCAAGAAAGGGAAGAGTCAAATAAAAGACAACATACA\r\n",
      "51\tGAATCAAGTGCA\r\n",
      "63\tGAACCAAATGCA\r\n",
      "75\tGAACTGAGTACA\r\n",
      "87\tGAATCAACTACA\r\n",
      "99\tGAATCAAATGCT\r\n",
      "111\tGAATCAGGTGCT\r\n",
      "123\tGAACCAAATGCT\r\n",
      "135\tGAACCAAGTGCA\r\n",
      "147\tGAATCAACTACA\r\n",
      "159\tGAATCAAATGTT\r\n",
      "171\tGAATCAGGTGCT\r\n",
      "183\tGAACCAAATGCT\r\n",
      "195\tGAATCAGGTGCT\r\n",
      "207\tGAATCAGGTGCT\r\n",
      "219\tGAACCAACTGCT\r\n",
      "231\tGAATCAAATGCT\r\n",
      "270\tGAACTAAAGCAAAGAATTTGGGAAATTTTGAGTTACCGTT\r\n"
     ]
    }
   ],
   "source": [
    "!cat Sc5414_data.txt"
   ]
  },
  {
   "cell_type": "code",
   "execution_count": 3,
   "metadata": {},
   "outputs": [
    {
     "name": "stdout",
     "output_type": "stream",
     "text": [
      "39\tGCGCAAGAAAGGGAAGAGTCAAATAAAAGACAACATACA\r\n",
      "51\tGAATCAAGTGCA\r\n",
      "63\tGAACCAAATGCA\r\n",
      "75\tGAACTGAGTACA\r\n",
      "87\tGAATCAACTACA\r\n",
      "99\tGAATCAAATGCT\r\n",
      "111\tGAATCAGGTGCT\r\n",
      "123\tGAATCAGGTGCT\r\n",
      "135\tGAACCAACTGCT\r\n",
      "147\tGAATCAAATGCT\r\n",
      "186\tGAACTAAAGCAAAGAATTTGGGAAATTTTGAGTTACCGT\r\n"
     ]
    }
   ],
   "source": [
    "!cat hp11vw_data.txt"
   ]
  },
  {
   "cell_type": "code",
   "execution_count": 49,
   "metadata": {},
   "outputs": [],
   "source": [
    "#%matplotlib inline"
   ]
  },
  {
   "cell_type": "code",
   "execution_count": 6,
   "metadata": {},
   "outputs": [
    {
     "name": "stdout",
     "output_type": "stream",
     "text": [
      "not multiple of 3?\n",
      "270-GAACTAAAGCAAAGAATTTGGGAAATTTTGAGTTACCGTT\n",
      "ELKQRIWEILSYR\n"
     ]
    }
   ],
   "source": [
    "from Bio import SeqIO\n",
    "from Bio.Seq import Seq\n",
    "# check yeast\n",
    "from Bio.Alphabet import IUPAC\n",
    "\n",
    "def collect_repeats(data):\n",
    "    repeats = []\n",
    "    for pos, rec in data:\n",
    "        # just print a warning\n",
    "        if len(rec) % 3:\n",
    "            print('not multiple of 3?')\n",
    "            print(\"%s-%s\" % (pos, rec))\n",
    "            #repeats.append('XXXXX')\n",
    "            print(str(rec.translate(table='Alternative Yeast Nuclear')))\n",
    "        pep = str(rec.translate(table='Alternative Yeast Nuclear'))\n",
    "        dna = str(rec)\n",
    "        repeats.append((dna,pep))\n",
    "    return repeats\n",
    "\n",
    "def read_rep_data(fname):\n",
    "    data = []\n",
    "    with open(fname) as f:\n",
    "        for line in f:\n",
    "            bits = line.strip().split('\\t')\n",
    "            pos = bits[0]\n",
    "            rec = Seq(bits[1], IUPAC.unambiguous_dna)\n",
    "            data.append((pos, rec))\n",
    "    return data\n",
    "       \n",
    "data1 = read_rep_data('Sc5414_data.txt')    \n",
    "repeats1 = collect_repeats(data1)\n",
    "data2 = read_rep_data('hp11vw_data.txt')\n",
    "repeats2 = collect_repeats(data2)\n",
    "\n",
    "strains = {'Sc5414':repeats1, 'hp11vw': repeats2}#, 'strain3':repeats3}\n"
   ]
  },
  {
   "cell_type": "code",
   "execution_count": 9,
   "metadata": {},
   "outputs": [
    {
     "data": {
      "text/plain": [
       "('GCGCAAGAAAGGGAAGAGTCAAATAAAAGACAACATACA', 'AQEREESNKRQHT')"
      ]
     },
     "execution_count": 9,
     "metadata": {},
     "output_type": "execute_result"
    }
   ],
   "source": [
    "repeats1[0]"
   ]
  },
  {
   "cell_type": "code",
   "execution_count": 52,
   "metadata": {},
   "outputs": [
    {
     "name": "stdout",
     "output_type": "stream",
     "text": [
      "error\n",
      "AQEREESNKRQHT\n",
      "ELKQRIWEILSYR\n",
      "{'#548d44': [('GAATCAAGTGCA', 'ESSA')], '#7b5804': [('GAACCAACTGCT', 'EPTA')], '#d3494e': [('GAATCAAATGTT', 'ESNV')], '#fdee73': [('GAACCAAATGCA', 'EPNA'), ('GAACCAAATGCT', 'EPNA'), ('GAACCAAATGCT', 'EPNA')], '#000000': [('GCGCAAGAAAGGGAAGAGTCAAATAAAAGACAACATACA', 'AQEREESNKRQHT'), ('GAACTAAAGCAAAGAATTTGGGAAATTTTGAGTTACCGTT', 'ELKQRIWEILSYR')], '#95a3a6': [('GAACTGAGTACA', 'ESST')], '#c0fb2d': [('GAATCAAATGCT', 'ESNA'), ('GAATCAAATGCT', 'ESNA')], '#029386': [('GAATCAGGTGCT', 'ESGA'), ('GAATCAGGTGCT', 'ESGA'), ('GAATCAGGTGCT', 'ESGA'), ('GAATCAGGTGCT', 'ESGA')], '#ffff81': [('GAACCAAGTGCA', 'EPSA')], '#eecffe': [('GAATCAACTACA', 'ESTT'), ('GAATCAACTACA', 'ESTT')]}\n",
      "error\n",
      "AQEREESNKRQHT\n",
      "ELKQRIWEILSYR\n",
      "{'#548d44': [('GAATCAAGTGCA', 'ESSA')], '#7b5804': [('GAACCAACTGCT', 'EPTA')], '#fdee73': [('GAACCAAATGCA', 'EPNA')], '#000000': [('GCGCAAGAAAGGGAAGAGTCAAATAAAAGACAACATACA', 'AQEREESNKRQHT'), ('GAACTAAAGCAAAGAATTTGGGAAATTTTGAGTTACCGT', 'ELKQRIWEILSYR')], '#95a3a6': [('GAACTGAGTACA', 'ESST')], '#c0fb2d': [('GAATCAAATGCT', 'ESNA'), ('GAATCAAATGCT', 'ESNA')], '#029386': [('GAATCAGGTGCT', 'ESGA'), ('GAATCAGGTGCT', 'ESGA')], '#eecffe': [('GAATCAACTACA', 'ESTT')]}\n"
     ]
    },
    {
     "data": {
      "image/png": "[encoded data removed]",
      "text/plain": [
       "<Figure size 648x288 with 2 Axes>"
      ]
     },
     "metadata": {},
     "output_type": "display_data"
    }
   ],
   "source": [
    "import matplotlib.pyplot as plt\n",
    "import matplotlib.colors\n",
    "import numpy as np\n",
    "import seaborn as sns\n",
    "\n",
    "fig, axes = plt.subplots(nrows=1, ncols=2, figsize=(9, 4))\n",
    "\n",
    "# this was to double up ends to make double wide, doesn't work\n",
    "#for strain in strains:\n",
    "#    start = strains[strain][0]\n",
    "#    end = strains[strain][-1]\n",
    "#    strains[strain].insert(0, start)\n",
    "#    strains[strain].insert(-1, end)\n",
    "\n",
    "# colect all repeats and find unique ones to assign a color\n",
    "uq_repeats = list(set([repeat[1] for repeat in strains for repeat in strains[repeat]]))\n",
    "\n",
    "#np.random.seed(sum(map(ord, \"palettes\")))\n",
    "\n",
    "col_dict = {}\n",
    "col_opts = sns.xkcd_rgb.keys()\n",
    "n = 0\n",
    "for rep in uq_repeats:\n",
    "    if rep == 'XXXXX':\n",
    "        # set bad repeat to black, redundent\n",
    "        col_dict[rep] = (0,0,0)\n",
    "    else:\n",
    "        col_dict[rep] = sns.xkcd_rgb[np.random.choice(col_opts, replace=False)] #palet[n]\n",
    "    n+=1\n",
    "\n",
    "## repeat plot\n",
    "start_end = []\n",
    "width = 1\n",
    "spacer = 0\n",
    "\n",
    "for i,strain in enumerate(strains.keys()):\n",
    "    used_colors_dict = {}\n",
    "    used_colors = []\n",
    "    start = 0\n",
    "    for dna, repeat in strains[strain]:\n",
    "        if start == 0:\n",
    "            # start of seq (not repeat)\n",
    "            col_dict[repeat] = '#000000'\n",
    "            col = '#000000'\n",
    "            start_end.append(repeat)\n",
    "        elif repeat == strains[strain][-1][1]:\n",
    "            # end of seq (not repeat)\n",
    "            col_dict[repeat] = '#000000'\n",
    "            col = '#000000'\n",
    "            start_end.append(repeat)\n",
    "        else:\n",
    "            col=col_dict[repeat]\n",
    "            spacer = 0\n",
    "        start += width\n",
    "        if col not in used_colors or col == '#ffffff':\n",
    "            used_colors.append(col)\n",
    "            used_colors_dict[col] = [(dna, repeat)]\n",
    "            hatch=\"\"\n",
    "        else:\n",
    "            # pep same, but DNA diff, make hatch\n",
    "            found,notfound = 0,0\n",
    "            for d, r in used_colors_dict[col]:\n",
    "                try:\n",
    "                    assert r == repeat\n",
    "                except AssertionError:\n",
    "                    print('error')\n",
    "                    print(r)\n",
    "                    print(repeat)\n",
    "                if dna != d:\n",
    "                    notfound+=1\n",
    "                else:\n",
    "                    found+=1\n",
    "            used_colors_dict[col].append((dna, repeat))\n",
    "            # ocnce it is found, dont hatch it again\n",
    "            #if notfound != 0 and found ==0:\n",
    "            # jan seems to hash even if it has been found before\n",
    "            if notfound != 0:\n",
    "                hatch=\"/\"\n",
    "            else:\n",
    "                hatch = \"\"\n",
    "        axes[0].barh(i,width, left=start - width, color=col_dict[repeat],\n",
    "                  hatch=hatch, align='center')\n",
    "    print(used_colors_dict)\n",
    "\n",
    "# get rid of xtics\n",
    "axes[0].set_xticklabels('')\n",
    "ind = np.arange(len(strains))\n",
    "axes[0].set_yticks(ind)\n",
    "labels1 = strains.keys()\n",
    "axes[0].set_yticklabels(labels1)\n",
    "# remove ticks and borders\n",
    "axes[0].get_xaxis().set_ticks([])\n",
    "axes[0].spines['top'].set_visible(False)\n",
    "axes[0].spines['right'].set_visible(False)\n",
    "axes[0].spines['bottom'].set_visible(False)\n",
    "axes[0].spines['left'].set_visible(False)\n",
    "axes[0].tick_params(axis=u'both', which=u'both',length=0)\n",
    "\n",
    "# remove the non-repeat start and ends before making the key\n",
    "assert len(start_end) % 2 == 0\n",
    "for norep in start_end:\n",
    "    col_dict.pop(norep, None)\n",
    "    \n",
    "# custom key on right plot\n",
    "col2 = col_dict.values()\n",
    "labels2 = col_dict.keys()\n",
    "axes[1].barh(np.arange(len(labels2)),len(labels2)*[0.3], left=0.1, color=col2, align='center')\n",
    "axes[1].set_xbound((0,1))\n",
    "axes[1].set_xticklabels('')\n",
    "\n",
    "# fix ticks\n",
    "axes[1].set_yticks(np.arange(len(labels2)))\n",
    "axes[1].set_yticklabels(labels2)\n",
    "axes[1].get_xaxis().set_ticks([])\n",
    "plt.tick_params(top='off', bottom='off', left='on', right='off', labelleft='on', labelbottom='on')\n",
    "\n",
    "# turn of border and ticks\n",
    "axes[1].spines['top'].set_visible(False)\n",
    "axes[1].spines['right'].set_visible(False)\n",
    "axes[1].spines['bottom'].set_visible(False)\n",
    "axes[1].spines['left'].set_visible(False)\n",
    "axes[1].tick_params(axis=u'both', which=u'both',length=0)\n",
    "\n",
    "#frameon=False\n",
    "\n",
    "fig.tight_layout()\n",
    "fig.savefig('test.png')\n",
    "plt.show()"
   ]
  },
  {
   "cell_type": "code",
   "execution_count": 49,
   "metadata": {},
   "outputs": [
    {
     "data": {
      "text/plain": [
       "{'#000000': [('GCGCAAGAAAGGGAAGAGTCAAATAAAAGACAACATACA', 'AQEREESNKRQHT')],\n",
       " '#411900': [('GAATCAAGTGCA', 'ESSA')],\n",
       " '#a8415b': [('GAATCAGGTGCT', 'ESGA'), ('GAATCAGGTGCT', 'ESGA')],\n",
       " '#c9d179': [('GAACTAAAGCAAAGAATTTGGGAAATTTTGAGTTACCGT', 'ELKQRIWEILSYR')],\n",
       " '#d99b82': [('GAACTGAGTACA', 'ESST')],\n",
       " '#e17701': [('GAACCAAATGCA', 'EPNA')],\n",
       " '#fdb915': [('GAATCAAATGCT', 'ESNA'), ('GAATCAAATGCT', 'ESNA')],\n",
       " '#fe0002': [('GAACCAACTGCT', 'EPTA')],\n",
       " '#fffd78': [('GAATCAACTACA', 'ESTT')]}"
      ]
     },
     "execution_count": 49,
     "metadata": {},
     "output_type": "execute_result"
    }
   ],
   "source": [
    "used_colors_dict"
   ]
  },
  {
   "cell_type": "code",
   "execution_count": 34,
   "metadata": {},
   "outputs": [
    {
     "data": {
      "text/plain": [
       "['AQEREESNKRQHT',\n",
       " 'ESSA',\n",
       " 'EPNA',\n",
       " 'ESST',\n",
       " 'ESTT',\n",
       " 'ESNA',\n",
       " 'ESGA',\n",
       " 'ESGA',\n",
       " 'EPTA',\n",
       " 'ESNA',\n",
       " 'ELKQRIWEILSYR']"
      ]
     },
     "execution_count": 34,
     "metadata": {},
     "output_type": "execute_result"
    }
   ],
   "source": [
    "#nice col dict\n",
    "strains[strain]"
   ]
  },
  {
   "cell_type": "code",
   "execution_count": 22,
   "metadata": {},
   "outputs": [
    {
     "data": {
      "text/plain": [
       "'ELKQRIWEILSYR'"
      ]
     },
     "execution_count": 22,
     "metadata": {},
     "output_type": "execute_result"
    }
   ],
   "source": [
    "repeat"
   ]
  },
  {
   "cell_type": "code",
   "execution_count": 24,
   "metadata": {},
   "outputs": [],
   "source": [
    "a = set([1,2])"
   ]
  },
  {
   "cell_type": "code",
   "execution_count": 25,
   "metadata": {},
   "outputs": [
    {
     "name": "stdout",
     "output_type": "stream",
     "text": [
      "1\n",
      "2\n"
     ]
    }
   ],
   "source": [
    "for n in a:\n",
    "    print(n)\n"
   ]
  },
  {
   "cell_type": "code",
   "execution_count": 2,
   "metadata": {},
   "outputs": [],
   "source": [
    "a = {'a':1,'b':2,'c':3}\n",
    "b = ['a','b']"
   ]
  },
  {
   "cell_type": "code",
   "execution_count": 23,
   "metadata": {},
   "outputs": [],
   "source": [
    "b.insert(0, 'a')"
   ]
  },
  {
   "cell_type": "code",
   "execution_count": 24,
   "metadata": {},
   "outputs": [
    {
     "data": {
      "text/plain": [
       "['a', 'a', 'b']"
      ]
     },
     "execution_count": 24,
     "metadata": {},
     "output_type": "execute_result"
    }
   ],
   "source": [
    "b"
   ]
  },
  {
   "cell_type": "code",
   "execution_count": null,
   "metadata": {
    "collapsed": true
   },
   "outputs": [],
   "source": []
  }
 ],
 "metadata": {
  "kernelspec": {
   "display_name": "Python 2",
   "language": "python",
   "name": "python2"
  },
  "language_info": {
   "codemirror_mode": {
    "name": "ipython",
    "version": 2
   },
   "file_extension": ".py",
   "mimetype": "text/x-python",
   "name": "python",
   "nbconvert_exporter": "python",
   "pygments_lexer": "ipython2",
   "version": "2.7.14"
  }
 },
 "nbformat": 4,
 "nbformat_minor": 1
}
