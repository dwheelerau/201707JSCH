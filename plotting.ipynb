{
 "cells": [
  {
   "cell_type": "code",
   "execution_count": 16,
   "metadata": {
    "collapsed": false
   },
   "outputs": [
    {
     "name": "stdout",
     "output_type": "stream",
     "text": [
      "CR_09880W_A_DEF1.fasta\t legend.png\t\tSc5414_data.txt\r\n",
      "DEF1 conversion.xlsx\t plotting.ipynb\t\tSc5414_data.txt~\r\n",
      "DEF1-hp11vw (187).fasta  sc5314 amplicon.fasta\r\n"
     ]
    }
   ],
   "source": [
    "!ls"
   ]
  },
  {
   "cell_type": "code",
   "execution_count": 17,
   "metadata": {
    "collapsed": true
   },
   "outputs": [],
   "source": [
    "from Bio import SeqIO\n",
    "from Bio.Seq import Seq\n",
    "# check yeast\n",
    "from Bio.Alphabet import IUPAC"
   ]
  },
  {
   "cell_type": "markdown",
   "metadata": {},
   "source": [
    "This one I am just going to translate the sequences from Jans spreadsheet, just to get the plotting working. I'm sure I have to extract the sequences myself somehow in the future, but not sure at this stage as the seq cordinates seem to be for the reference (I gather I must have these alleles somewhere?)"
   ]
  },
  {
   "cell_type": "code",
   "execution_count": 18,
   "metadata": {
    "collapsed": false
   },
   "outputs": [
    {
     "name": "stdout",
     "output_type": "stream",
     "text": [
      "39\tGCGCAAGAAAGGGAAGAGTCAAATAAAAGACAACATACA\r\n",
      "51\tGAATCAAGTGCA\r\n",
      "63\tGAACCAAATGCA\r\n",
      "75\tGAACTGAGTACA\r\n",
      "87\tGAATCAACTACA\r\n",
      "99\tGAATCAAATGCT\r\n",
      "111\tGAATCAGGTGCT\r\n",
      "123\tGAACCAAATGCT\r\n",
      "135\tGAACCAAGTGCA\r\n",
      "147\tGAATCAACTACA\r\n",
      "159\tGAATCAAATGTT\r\n",
      "171\tGAATCAGGTGCT\r\n",
      "183\tGAACCAAATGCT\r\n",
      "195\tGAATCAGGTGCT\r\n",
      "207\tGAATCAGGTGCT\r\n",
      "219\tGAACCAACTGCT\r\n",
      "231\tGAATCAAATGCT\r\n",
      "270\tGAACTAAAGCAAAGAATTTGGGAAATTTTGAGTTACCGTT\r\n"
     ]
    }
   ],
   "source": [
    "!cat Sc5414_data.txt"
   ]
  },
  {
   "cell_type": "code",
   "execution_count": 19,
   "metadata": {
    "collapsed": false
   },
   "outputs": [],
   "source": [
    "data = []\n",
    "with open('Sc5414_data.txt') as f:\n",
    "    for line in f:\n",
    "        bits = line.strip().split('\\t')\n",
    "        pos = bits[0]\n",
    "        rec = Seq(bits[1], IUPAC.unambiguous_dna)\n",
    "        data.append((pos, rec))"
   ]
  },
  {
   "cell_type": "code",
   "execution_count": 5,
   "metadata": {
    "collapsed": false
   },
   "outputs": [
    {
     "data": {
      "text/plain": [
       "[('39', Seq('GCGCAAGAAAGGGAAGAGTCAAATAAAAGACAACATACA', IUPACUnambiguousDNA())),\n",
       " ('51', Seq('GAATCAAGTGCA', IUPACUnambiguousDNA())),\n",
       " ('63', Seq('GAACCAAATGCA', IUPACUnambiguousDNA())),\n",
       " ('75', Seq('GAACTGAGTACA', IUPACUnambiguousDNA())),\n",
       " ('87', Seq('GAATCAACTACA', IUPACUnambiguousDNA())),\n",
       " ('99', Seq('GAATCAAATGCT', IUPACUnambiguousDNA())),\n",
       " ('111', Seq('GAATCAGGTGCT', IUPACUnambiguousDNA())),\n",
       " ('123', Seq('GAACCAAATGCT', IUPACUnambiguousDNA())),\n",
       " ('135', Seq('GAACCAAGTGCA', IUPACUnambiguousDNA())),\n",
       " ('147', Seq('GAATCAACTACA', IUPACUnambiguousDNA())),\n",
       " ('159', Seq('GAATCAAATGTT', IUPACUnambiguousDNA())),\n",
       " ('171', Seq('GAATCAGGTGCT', IUPACUnambiguousDNA())),\n",
       " ('183', Seq('GAACCAAATGCT', IUPACUnambiguousDNA())),\n",
       " ('195', Seq('GAATCAGGTGCT', IUPACUnambiguousDNA())),\n",
       " ('207', Seq('GAATCAGGTGCT', IUPACUnambiguousDNA())),\n",
       " ('219', Seq('GAACCAACTGCT', IUPACUnambiguousDNA())),\n",
       " ('231', Seq('GAATCAAATGCT', IUPACUnambiguousDNA())),\n",
       " ('270',\n",
       "  Seq('GAACTAAAGCAAAGAATTTGGGAAATTTTGAGTTACCGTT', IUPACUnambiguousDNA()))]"
      ]
     },
     "execution_count": 5,
     "metadata": {},
     "output_type": "execute_result"
    }
   ],
   "source": [
    "data"
   ]
  },
  {
   "cell_type": "code",
   "execution_count": 21,
   "metadata": {
    "collapsed": false
   },
   "outputs": [
    {
     "name": "stdout",
     "output_type": "stream",
     "text": [
      "AQEREESNKRQHT\n",
      "ESSA\n",
      "EPNA\n",
      "ELST\n",
      "ESTT\n",
      "ESNA\n",
      "ESGA\n",
      "EPNA\n",
      "EPSA\n",
      "ESTT\n",
      "ESNV\n",
      "ESGA\n",
      "EPNA\n",
      "ESGA\n",
      "ESGA\n",
      "EPTA\n",
      "ESNA\n",
      "not multiple of 3?\n",
      "270-GAACTAAAGCAAAGAATTTGGGAAATTTTGAGTTACCGTT\n"
     ]
    }
   ],
   "source": [
    "# check for mult of 3 and then translate\n",
    "repeats = []\n",
    "for pos, rec in data:\n",
    "    if len(rec) % 3:\n",
    "        print('not multiple of 3?')\n",
    "        print(\"%s-%s\" % (pos, rec))\n",
    "    else:\n",
    "        print rec.translate()\n",
    "        repeats.append(str(rec.translate()))\n",
    "        \n",
    "    #print(rec.translate())\n",
    "    "
   ]
  },
  {
   "cell_type": "code",
   "execution_count": 22,
   "metadata": {
    "collapsed": false
   },
   "outputs": [
    {
     "data": {
      "text/plain": [
       "['AQEREESNKRQHT',\n",
       " 'ESSA',\n",
       " 'EPNA',\n",
       " 'ELST',\n",
       " 'ESTT',\n",
       " 'ESNA',\n",
       " 'ESGA',\n",
       " 'EPNA',\n",
       " 'EPSA',\n",
       " 'ESTT',\n",
       " 'ESNV',\n",
       " 'ESGA',\n",
       " 'EPNA',\n",
       " 'ESGA',\n",
       " 'ESGA',\n",
       " 'EPTA',\n",
       " 'ESNA']"
      ]
     },
     "execution_count": 22,
     "metadata": {},
     "output_type": "execute_result"
    }
   ],
   "source": [
    "repeats"
   ]
  },
  {
   "cell_type": "code",
   "execution_count": 8,
   "metadata": {
    "collapsed": true
   },
   "outputs": [],
   "source": [
    "# make a dictionary of peptide colors pairs for color consistency\n",
    "# ToDo: need a way of collecting all colors so would do this for all samples\n",
    "# add this here"
   ]
  },
  {
   "cell_type": "code",
   "execution_count": 9,
   "metadata": {
    "collapsed": false
   },
   "outputs": [],
   "source": [
    "import matplotlib.colors as colors\n",
    "import matplotlib.pyplot as plt\n",
    "import numpy as np\n",
    "color_dict = {}\n",
    "color_range = range(len(set(repeats)))"
   ]
  },
  {
   "cell_type": "code",
   "execution_count": 10,
   "metadata": {
    "collapsed": false
   },
   "outputs": [
    {
     "data": {
      "text/plain": [
       "[0, 1, 2, 3, 4, 5, 6, 7, 8, 9]"
      ]
     },
     "execution_count": 10,
     "metadata": {},
     "output_type": "execute_result"
    }
   ],
   "source": [
    "color_range"
   ]
  },
  {
   "cell_type": "code",
   "execution_count": 11,
   "metadata": {
    "collapsed": true
   },
   "outputs": [],
   "source": [
    "norm = colors.BoundaryNorm(boundaries=color_range, ncolors=len(color_range))"
   ]
  },
  {
   "cell_type": "code",
   "execution_count": 12,
   "metadata": {
    "collapsed": false
   },
   "outputs": [
    {
     "data": {
      "text/plain": [
       "<Container object of 5 artists>"
      ]
     },
     "execution_count": 12,
     "metadata": {},
     "output_type": "execute_result"
    }
   ],
   "source": [
    "countries = ['USA', 'GB', 'China', 'Russia', 'Germany']\n",
    "bronzes = np.array([38, 17, 26, 19, 15])\n",
    "silvers = np.array([37, 23, 18, 18, 10])\n",
    "golds = np.array([46, 27, 26, 19, 17])\n",
    "ind = [x for x, _ in enumerate(countries)]\n",
    "\n",
    "plt.bar(ind, golds, width=0.8, label='golds', color='gold', bottom=silvers+bronzes)\n",
    "plt.bar(ind, silvers, width=0.8, label='silvers', color='silver', bottom=bronzes)\n",
    "plt.bar(ind, bronzes, width=0.8, label='bronzes', color='#CD853F')\n"
   ]
  },
  {
   "cell_type": "code",
   "execution_count": 13,
   "metadata": {
    "collapsed": false
   },
   "outputs": [],
   "source": [
    "plt.show()"
   ]
  },
  {
   "cell_type": "code",
   "execution_count": 2,
   "metadata": {
    "collapsed": false
   },
   "outputs": [],
   "source": [
    "x = ['Nuclear', 'Hydro', 'Gas', 'Oil', 'Coal', 'Biofuel']\n",
    "energy = [5, 6, 15, 22, 24, 8]\n",
    "variance = [1, 2, 7, 4, 2, 3]\n",
    "\n",
    "x_pos = [i for i, _ in enumerate(x)]\n",
    "\n",
    "plt.barh(x_pos, energy, color='green', xerr=variance)\n",
    "plt.ylabel(\"Energy Source\")\n",
    "plt.xlabel(\"Energy Output (GJ)\")\n",
    "plt.title(\"Energy output from various fuel sources\")\n",
    "\n",
    "plt.yticks(x_pos, x)\n",
    "\n",
    "plt.show()"
   ]
  },
  {
   "cell_type": "code",
   "execution_count": 15,
   "metadata": {
    "collapsed": false
   },
   "outputs": [],
   "source": [
    "x = ['locxxx']\n",
    "x = [i for i, _ in enumerate(x)]\n",
    "y = [0.5, 0.5]\n",
    "bot = 0\n",
    "for yval in y:\n",
    "    plt.bar(x, yval, bottom=bot)\n",
    "    bot += 0.5\n",
    "plt.show()"
   ]
  },
  {
   "cell_type": "code",
   "execution_count": 18,
   "metadata": {
    "collapsed": false
   },
   "outputs": [],
   "source": [
    "import matplotlib.patches as mpatches\n",
    "import matplotlib.pyplot as plt\n",
    "\n",
    "red_patch = mpatches.Patch(color='red', label='The red data')\n",
    "blue_patch = mpatches.Patch(color='blue', label='The blue data')\n",
    "\n",
    "plt.legend(handles=[red_patch, blue_patch])"
   ]
  },
  {
   "cell_type": "code",
   "execution_count": 14,
   "metadata": {
    "collapsed": false
   },
   "outputs": [
    {
     "data": {
      "image/png": "[encoded data removed]",
      "text/plain": [
       "<matplotlib.figure.Figure at 0x7fb5692435d0>"
      ]
     },
     "metadata": {},
     "output_type": "display_data"
    }
   ],
   "source": [
    "#%matplotlib inline\n",
    "from matplotlib.patches import Patch\n",
    "import matplotlib.pyplot as plt\n",
    "\n",
    "fig,axis = plt.subplots()\n",
    "\n",
    "# this list contains data\n",
    "alist = [1,2,3,1,3,2,4]\n",
    "blist = [1,1,3,3,4,1]\n",
    "\n",
    "# this list needs to expand to the number of strains\n",
    "genes = [alist,blist]\n",
    "\n",
    "legend_elements = [Patch(facecolor='orange', edgecolor='b',\n",
    "                         label='Color Patch')]\n",
    "\n",
    "# need uniq to get color range, maybe random selection\n",
    "col_list = list(set(alist+blist))\n",
    "tmp_col = ['r','g', 'y','b']\n",
    "col_dict = {}\n",
    "for n in alist:\n",
    "    if n not in col_dict:\n",
    "        col_dict[n] = tmp_col[col_list.index(n)]\n",
    "\n",
    "width = 0.5\n",
    "\n",
    "for i in range(len(genes)):\n",
    "    used_cols = []\n",
    "    start = 0\n",
    "    for num in genes[i]:\n",
    "        start += width\n",
    "        col=col_dict[num]\n",
    "        if col not in used_cols:\n",
    "            used_cols.append(col)\n",
    "            hatch=\"\"\n",
    "        else:\n",
    "            hatch=\".\"\n",
    "        axis.barh(i,width, color=col_dict[num], left=start - width, \n",
    "                  hatch=hatch, align='center' )\n",
    "        \n",
    "    axis.set_xlim((0,len(genes[0])*width+1))\n",
    "axis.set_xticklabels('')\n",
    "\n",
    "labels = [item.get_text() for item in axis.get_yticklabels()]\n",
    "labels[2] = 'alist'\n",
    "labels[7] = 'blist'\n",
    "\n",
    "#fig.legend(col_dict,('a','b'))\n",
    "axis.set_yticklabels(labels)\n",
    "###\n",
    "\n",
    "\n",
    "axis.legend()#handles=legend_elements)\n",
    "####\n",
    "#fig.show()\n",
    "plt.show()"
   ]
  },
  {
   "cell_type": "code",
   "execution_count": 288,
   "metadata": {
    "collapsed": false
   },
   "outputs": [
    {
     "name": "stdout",
     "output_type": "stream",
     "text": [
      "[('39', Seq('GCGCAAGAAAGGGAAGAGTCAAATAAAAGACAACATACA', IUPACUnambiguousDNA())), ('51', Seq('GAATCAAGTGCA', IUPACUnambiguousDNA())), ('63', Seq('GAACCAAATGCA', IUPACUnambiguousDNA())), ('75', Seq('GAACTGAGTACA', IUPACUnambiguousDNA())), ('87', Seq('GAATCAACTACA', IUPACUnambiguousDNA())), ('99', Seq('GAATCAAATGCT', IUPACUnambiguousDNA())), ('111', Seq('GAATCAGGTGCT', IUPACUnambiguousDNA())), ('123', Seq('GAACCAAATGCT', IUPACUnambiguousDNA())), ('135', Seq('GAACCAAGTGCA', IUPACUnambiguousDNA())), ('147', Seq('GAATCAACTACA', IUPACUnambiguousDNA())), ('159', Seq('GAATCAAATGTT', IUPACUnambiguousDNA())), ('171', Seq('GAATCAGGTGCT', IUPACUnambiguousDNA())), ('183', Seq('GAACCAAATGCT', IUPACUnambiguousDNA())), ('195', Seq('GAATCAGGTGCT', IUPACUnambiguousDNA())), ('207', Seq('GAATCAGGTGCT', IUPACUnambiguousDNA())), ('219', Seq('GAACCAACTGCT', IUPACUnambiguousDNA())), ('231', Seq('GAATCAAATGCT', IUPACUnambiguousDNA())), ('270', Seq('GAACTAAAGCAAAGAATTTGGGAAATTTTGAGTTACCGTT', IUPACUnambiguousDNA()))]\n",
      "not multiple of 3?\n",
      "270-GAACTAAAGCAAAGAATTTGGGAAATTTTGAGTTACCGTT\n",
      "['AQEREESNKRQHT', 'ESSA', 'AAAAA', 'TTTTTT', 'CCCCCC']\n"
     ]
    }
   ],
   "source": [
    "data = []\n",
    "with open('Sc5414_data.txt') as f:\n",
    "    for line in f:\n",
    "        bits = line.strip().split('\\t')\n",
    "        pos = bits[0]\n",
    "        rec = Seq(bits[1], IUPAC.unambiguous_dna)\n",
    "        data.append((pos, rec))\n",
    "print(data)        \n",
    "# check for mult of 3 and then translate\n",
    "repeats1 = []\n",
    "for pos, rec in data:\n",
    "    if len(rec) % 3:\n",
    "        print('not multiple of 3?')\n",
    "        print(\"%s-%s\" % (pos, rec))\n",
    "        repeats1.append('XXXXX')\n",
    "    else:\n",
    "        repeats1.append(str(rec.translate()))\n",
    "print(repeats)        \n",
    "\n",
    "#DUMMY\n",
    "repeats2 = ['AQEREESNKRQHT','ESSA','AAAAA','TTTTTT','CCCCCC']\n",
    "repeats3 = ['AQEREESNKRQHT','ESTA','AAAAA','TTTATT','CCCCCC','CCCCCC']\n"
   ]
  },
  {
   "cell_type": "code",
   "execution_count": 296,
   "metadata": {
    "collapsed": false
   },
   "outputs": [
    {
     "data": {
      "image/png": "[encoded data removed]",
      "text/plain": [
       "<matplotlib.figure.Figure at 0x7fb5516ba290>"
      ]
     },
     "metadata": {},
     "output_type": "display_data"
    }
   ],
   "source": [
    "import matplotlib.pyplot as plt\n",
    "import matplotlib.colors\n",
    "import numpy as np\n",
    "import seaborn as sns\n",
    "\n",
    "fig, axes = plt.subplots(nrows=1, ncols=2, figsize=(9, 4))\n",
    "\n",
    "genes = {'gene1':repeats1, 'gene2': repeats2, 'gene3':repeats3}\n",
    "\n",
    "# colect all repeats and find unique ones to assign a color\n",
    "uq_repeats = list(set([repeat for repeat in genes for repeat in genes[repeat]]))\n",
    "\n",
    "np.random.seed(sum(map(ord, \"palettes\")))\n",
    "#palet = sns.color_palette(\"husl\", len(uq_repeats)) \n",
    "#palet = sns.color_palette(\"Set2\", len(uq_repeats))\n",
    "#palet = sns.color_palette(\"Paired\")#, len(uq_repeats))\n",
    "\n",
    "col_dict = {}\n",
    "col_opts = sns.xkcd_rgb.keys()\n",
    "n = 0\n",
    "for rep in uq_repeats:\n",
    "    if rep == 'XXXXX':\n",
    "        # set bad repeat to black\n",
    "        col_dict[rep] = (0,0,0)\n",
    "    else:\n",
    "        col_dict[rep] = sns.xkcd_rgb[np.random.choice(col_opts, replace=False)] #palet[n]\n",
    "    n+=1\n",
    "\n",
    "## repeat plot\n",
    "width = 0.5\n",
    "for i,gene in enumerate(genes.keys()):\n",
    "    used_colors = []\n",
    "    start = 0\n",
    "    for repeat in genes[gene]:\n",
    "        start += width\n",
    "        col=col_dict[repeat]\n",
    "        if col not in used_colors:\n",
    "            used_colors.append(col)\n",
    "            hatch=\"\"\n",
    "        else:\n",
    "            hatch=\"/\"\n",
    "        axes[0].barh(i,width, left=start - width, color=col_dict[repeat],\n",
    "                  hatch=hatch, align='center')\n",
    "\n",
    "# get rid of xtics\n",
    "axes[0].set_xticklabels('')\n",
    "ind = np.arange(len(genes))\n",
    "axes[0].set_yticks(ind)\n",
    "labels1 = genes.keys()\n",
    "axes[0].set_yticklabels(labels1)\n",
    "# remove ticks and borders\n",
    "axes[0].get_xaxis().set_ticks([])\n",
    "axes[0].spines['top'].set_visible(False)\n",
    "axes[0].spines['right'].set_visible(False)\n",
    "axes[0].spines['bottom'].set_visible(False)\n",
    "axes[0].spines['left'].set_visible(False)\n",
    "axes[0].tick_params(axis=u'both', which=u'both',length=0)\n",
    "# custom key on right plot\n",
    "col2 = col_dict.values()\n",
    "labels2 = col_dict.keys()\n",
    "axes[1].barh(np.arange(len(labels2)),len(labels2)*[0.5], left=0.1, color=col2, align='center')\n",
    "axes[1].set_xbound((0,1))\n",
    "axes[1].set_xticklabels('')\n",
    "\n",
    "# fix ticks\n",
    "axes[1].set_yticks(np.arange(len(labels2)))\n",
    "axes[1].set_yticklabels(labels2)\n",
    "axes[1].get_xaxis().set_ticks([])\n",
    "plt.tick_params(top='off', bottom='off', left='on', right='off', labelleft='on', labelbottom='on')\n",
    "\n",
    "# turn of border and ticks\n",
    "axes[1].spines['top'].set_visible(False)\n",
    "axes[1].spines['right'].set_visible(False)\n",
    "axes[1].spines['bottom'].set_visible(False)\n",
    "axes[1].spines['left'].set_visible(False)\n",
    "axes[1].tick_params(axis=u'both', which=u'both',length=0)\n",
    "\n",
    "#frameon=False\n",
    "\n",
    "fig.tight_layout()\n",
    "\n",
    "plt.show()"
   ]
  },
  {
   "cell_type": "code",
   "execution_count": null,
   "metadata": {
    "collapsed": false
   },
   "outputs": [],
   "source": []
  },
  {
   "cell_type": "code",
   "execution_count": null,
   "metadata": {
    "collapsed": false
   },
   "outputs": [],
   "source": []
  },
  {
   "cell_type": "code",
   "execution_count": null,
   "metadata": {
    "collapsed": false
   },
   "outputs": [],
   "source": []
  },
  {
   "cell_type": "code",
   "execution_count": null,
   "metadata": {
    "collapsed": false
   },
   "outputs": [],
   "source": [
    "\n"
   ]
  },
  {
   "cell_type": "code",
   "execution_count": null,
   "metadata": {
    "collapsed": false
   },
   "outputs": [],
   "source": []
  },
  {
   "cell_type": "code",
   "execution_count": null,
   "metadata": {
    "collapsed": false
   },
   "outputs": [],
   "source": []
  },
  {
   "cell_type": "code",
   "execution_count": null,
   "metadata": {
    "collapsed": true
   },
   "outputs": [],
   "source": []
  }
 ],
 "metadata": {
  "kernelspec": {
   "display_name": "Python 2",
   "language": "python",
   "name": "python2"
  },
  "language_info": {
   "codemirror_mode": {
    "name": "ipython",
    "version": 2
   },
   "file_extension": ".py",
   "mimetype": "text/x-python",
   "name": "python",
   "nbconvert_exporter": "python",
   "pygments_lexer": "ipython2",
   "version": "2.7.6"
  }
 },
 "nbformat": 4,
 "nbformat_minor": 0
}
